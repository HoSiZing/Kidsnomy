{
 "cells": [
  {
   "cell_type": "code",
   "execution_count": 1,
   "metadata": {},
   "outputs": [
    {
     "data": {
      "text/plain": [
       "True"
      ]
     },
     "execution_count": 1,
     "metadata": {},
     "output_type": "execute_result"
    }
   ],
   "source": [
    "# API 키를 환경변수로 관리하기 위한 설정 파일\n",
    "from dotenv import load_dotenv\n",
    "\n",
    "# API 키 정보 로드\n",
    "load_dotenv()\n"
   ]
  },
  {
   "cell_type": "code",
   "execution_count": 5,
   "metadata": {},
   "outputs": [
    {
     "name": "stdout",
     "output_type": "stream",
     "text": [
      "LangSmith 추적을 시작합니다.\n",
      "[프로젝트명]\n",
      "Test-Agents\n"
     ]
    }
   ],
   "source": [
    "# LangSmith 추적을 설정합니다. https://smith.langchain.com\n",
    "# !pip install -qU langchain-teddynote\n",
    "from langchain_teddynote import logging\n",
    "\n",
    "# 프로젝트 이름을 입력합니다.\n",
    "logging.langsmith(\"Test-Agents\")\n"
   ]
  },
  {
   "cell_type": "code",
   "execution_count": 6,
   "metadata": {},
   "outputs": [
    {
     "name": "stdout",
     "output_type": "stream",
     "text": [
      "도구 이름: search_news\n",
      "도구 설명: Search Google News by input keyword\n",
      "도구 이름: python_repl_tool\n",
      "도구 설명: Use this to execute python code. If you want to see the output of a value,\n",
      "    you should print it out with `print(...)`. This is visible to the user.\n"
     ]
    }
   ],
   "source": [
    "from langchain.tools import tool\n",
    "from typing import List, Dict, Annotated\n",
    "from langchain_teddynote.tools import GoogleNews\n",
    "from langchain_experimental.utilities import PythonREPL\n",
    "\n",
    "\n",
    "# 도구 생성\n",
    "@tool\n",
    "def search_news(query: str) -> List[Dict[str, str]]:\n",
    "    \"\"\"Search Google News by input keyword\"\"\"\n",
    "    news_tool = GoogleNews()\n",
    "    return news_tool.search_by_keyword(query, k=5)\n",
    "\n",
    "\n",
    "# 도구 생성\n",
    "@tool\n",
    "def python_repl_tool(\n",
    "    code: Annotated[str, \"The python code to execute to generate your chart.\"],\n",
    "):\n",
    "    \"\"\"Use this to execute python code. If you want to see the output of a value,\n",
    "    you should print it out with `print(...)`. This is visible to the user.\"\"\"\n",
    "    result = \"\"\n",
    "    try:\n",
    "        result = PythonREPL().run(code)\n",
    "    except BaseException as e:\n",
    "        print(f\"Failed to execute. Error: {repr(e)}\")\n",
    "    finally:\n",
    "        return result\n",
    "\n",
    "\n",
    "print(f\"도구 이름: {search_news.name}\")\n",
    "print(f\"도구 설명: {search_news.description}\")\n",
    "print(f\"도구 이름: {python_repl_tool.name}\")\n",
    "print(f\"도구 설명: {python_repl_tool.description}\")\n"
   ]
  },
  {
   "cell_type": "code",
   "execution_count": 7,
   "metadata": {},
   "outputs": [],
   "source": [
    "# tools 정의\n",
    "tools = [search_news, python_repl_tool]\n"
   ]
  },
  {
   "cell_type": "code",
   "execution_count": 8,
   "metadata": {},
   "outputs": [],
   "source": [
    "from langchain_core.prompts import ChatPromptTemplate\n",
    "\n",
    "# 프롬프트 생성\n",
    "# 프롬프트는 에이전트에게 모델이 수행할 작업을 설명하는 텍스트를 제공합니다. (도구의 이름과 역할을 입력)\n",
    "prompt = ChatPromptTemplate.from_messages(\n",
    "    [\n",
    "        (\n",
    "            \"system\",\n",
    "            \"You are a helpful assistant. \"\n",
    "            \"Make sure to use the `search_news` tool for searching keyword related news.\",\n",
    "        ),\n",
    "        (\"placeholder\", \"{chat_history}\"),\n",
    "        (\"human\", \"{input}\"),\n",
    "        (\"placeholder\", \"{agent_scratchpad}\"),\n",
    "    ]\n",
    ")\n"
   ]
  },
  {
   "cell_type": "code",
   "execution_count": 9,
   "metadata": {},
   "outputs": [],
   "source": [
    "from langchain_openai import ChatOpenAI\n",
    "from langchain.agents import create_tool_calling_agent\n",
    "\n",
    "# LLM 정의\n",
    "llm = ChatOpenAI(model=\"gpt-4o-mini\", temperature=0)\n",
    "\n",
    "# Agent 생성\n",
    "agent = create_tool_calling_agent(llm, tools, prompt)\n"
   ]
  },
  {
   "cell_type": "markdown",
   "metadata": {},
   "source": [
    "### 최적화 팁\n",
    "\n",
    "- max_iterations와 max_execution_time을 적절히 설정하여 실행 시간 관리\n",
    "- trim_intermediate_steps를 활용하여 메모리 사용량 최적화\n",
    "- 복잡한 작업의 경우 stream 메서드를 사용하여 단계별 결과 모니터링"
   ]
  },
  {
   "cell_type": "code",
   "execution_count": 10,
   "metadata": {},
   "outputs": [
    {
     "name": "stdout",
     "output_type": "stream",
     "text": [
      "\n",
      "\n",
      "\u001b[1m> Entering new AgentExecutor chain...\u001b[0m\n",
      "\u001b[32;1m\u001b[1;3m\n",
      "Invoking: `search_news` with `{'query': 'AI 투자'}`\n",
      "\n",
      "\n",
      "\u001b[0m\u001b[36;1m\u001b[1;3m[{'url': 'https://news.google.com/rss/articles/CBMiVkFVX3lxTE5GQjI1cGxiaU1OS0NoX0ExWUJ0Umx5cXpfMjBsRm9mQUpNS1BNd2dGR254XzFrQllqUS1mcWNTU0I0eWFRVDZGX2lIa2d3VndtT2Q1STJB?oc=5', 'content': '[AI는 지금] AI만으론 부족해…오픈AI, 스타트업 투자로 생태계 확장 - ZD넷 코리아'}, {'url': 'https://news.google.com/rss/articles/CBMicEFVX3lxTE53UUNnMjJPOEd3czJQNFl1dVVQNUlleWVTS0VzUzdJX2pRQWU1blZXX0ZrdzFUUnFYdzhyYkY5a2xGWTBqYU5vRFNRb0ZuajF1amptaFpqV0xkVWk1aDdjSHBjMjBJcGJwbmhkQWJfNnLSAXRBVV95cUxPcElEbkpWcGZZRURha1hfcW02U0NVSzk0T1hMVVhQcDRWWTJnWk9Ddk43OV9GWmY4MkRURWU4TVByeUZqSDNrY3k5V0VBWWlvUjE1di1BU0JLOGtXSHhjUFBFa0FLTjJhUVloMjVSZzF4a3BCbg?oc=5', 'content': 'KT ‘호텔’ 매각 만지작… AI 투자가 이유(?) - IT조선'}, {'url': 'https://news.google.com/rss/articles/CBMiZkFVX3lxTFBIT2NvaXRiZVJVc3N4dTRUSFB1LW4zTkN3c3UtSDQyTHRKMGkzWWFCdEpjRnAxYXZKWlh3bmNZM0xxeVdYbFBaMmRXampzM0U4QkctSFpZTENEdlVoZ0FvVjFPekJtUdIBbkFVX3lxTE5ybERZMnhLWlo5cmg4UEhpaDc3NnFMekVkY0Zyb0huRmpXSWZMNjl0Q00zNWJlVDFFNUNXaDVSZHhBb2NpSUN5ODhiSU1BZTRaTjBGaEVnbzVwalg2eXFma2gtMUROVlJRRHFyS2Rn?oc=5', 'content': \"더벤처스, 베트남 빈 그룹과 현지 AI기업 '플룸AI' 투자 - 머니투데이\"}, {'url': 'https://news.google.com/rss/articles/CBMiVkFVX3lxTE8wMjZhNm9jQXRTUTBYelVQb3lfbmZ3U3J0VnlETnlWNGtic3hFazViQ0ZlU3I0Unh0U2ZmTk9fQWN6N0EtVExPc1plTHJwU3ZyeHdUM0pn?oc=5', 'content': '50개 유망주 중 5개 추렸다, 1번은 ‘AI 포식자’ 브로드컴 [5대 운용사 ‘서학톱픽’①] - 중앙일보'}, {'url': 'https://news.google.com/rss/articles/CBMiU0FVX3lxTE9yZnFfTW9XNlNPMW5XY0tHeU1KX3ZKMFFQbEJKR1BtdFR5cUoxOUVwWUlHd3NLNWNQZmpIdURfVkgyVkFVTS1EaDdJRVZrUUExMlhz?oc=5', 'content': \"미래에셋증권, 'AI투자정보 알림 서비스' 강화 - 네이트 뉴스\"}]\u001b[0m\u001b[32;1m\u001b[1;3m다음은 AI 투자와 관련된 최근 뉴스입니다:\n",
      "\n",
      "1. [AI만으론 부족해…오픈AI, 스타트업 투자로 생태계 확장 - ZD넷 코리아](https://news.google.com/rss/articles/CBMiVkFVX3lxTE5GQjI1cGxiaU1OS0NoX0ExWUJ0Umx5cXpfMjBsRm9mQUpNS1BNd2dGR254XzFrQllqUS1mcWNTU0I0eWFRVDZGX2lIa2d3VndtT2Q1STJB?oc=5)\n",
      "   \n",
      "2. [KT ‘호텔’ 매각 만지작… AI 투자가 이유(?) - IT조선](https://news.google.com/rss/articles/CBMicEFVX3lxTE53UUNnMjJPOEd3czJQNFl1dVVQNUlleWVTS0VzUzdJX2pRQWU1blZXX0ZrdzFUUnFYdzhyYkY5a2xGWTBqYU5vRFNRb0ZuajF1amptaFpqV0xkVWk1aDdjSHBjMjBJcGJwbmhkQWJfNnLSAXRBVV95cUxPcElEbkpWcGZZRURha1hfcW02U0NVSzk0T1hMVVhQcDRWWTJnWk9Ddk43OV9GWmY4MkRURWU4TVByeUZqSDNrY3k5V0VBWWlvUjE1di1BU0JLOGtXSHhjUFBFa0FLTjJhUVloMjVSZzF4a3BCbg?oc=5)\n",
      "\n",
      "3. [더벤처스, 베트남 빈 그룹과 현지 AI기업 '플룸AI' 투자 - 머니투데이](https://news.google.com/rss/articles/CBMiZkFVX3lxTFBIT2NvaXRiZVJVc3N4dTRUSFB1LW4zTkN3c3UtSDQyTHRKMGkzWWFCdEpjRnAxYXZKWlh3bmNZM0xxeVdYbFBaMmRXampzM0U4QkctSFpZTENEdlVoZ0FvVjFPekJtUdIBbkFVX3lxTE5ybERZMnhLWlo5cmg4UEhpaDc3NnFMekVkY0Zyb0huRmpXSWZMNjl0Q00zNWJlVDFFNUNXaDVSZHhBb2NpSUN5ODhiSU1BZTRaTjBGaEVnbzVwalg2eXFma2gtMUROVlJRRHFyS2Rn?oc=5)\n",
      "\n",
      "4. [50개 유망주 중 5개 추렸다, 1번은 ‘AI 포식자’ 브로드컴 [5대 운용사 ‘서학톱픽’①] - 중앙일보](https://news.google.com/rss/articles/CBMiVkFVX3lxTE8wMjZhNm9jQXRTUTBYelVQb3lfbmZ3U3J0VnlETnlWNGtic3hFazViQ0ZlU3I0Unh0U2ZmTk9fQWN6N0EtVExPc1plTHJwU3ZyeHdUM0pn?oc=5)\n",
      "\n",
      "5. [미래에셋증권, 'AI투자정보 알림 서비스' 강화 - 네이트 뉴스](https://news.google.com/rss/articles/CBMiU0FVX3lxTE9yZnFfTW9XNlNPMW5XY0tHeU1KX3ZKMFFQbEJKR1BtdFR5cUoxOUVwWUlHd3NLNWNQZmpIdURfVkgyVkFVTS1EaDdJRVZrUUExMlhz?oc=5)\n",
      "\n",
      "각 링크를 클릭하시면 더 자세한 내용을 확인하실 수 있습니다.\u001b[0m\n",
      "\n",
      "\u001b[1m> Finished chain.\u001b[0m\n",
      "Agent 실행 결과:\n",
      "다음은 AI 투자와 관련된 최근 뉴스입니다:\n",
      "\n",
      "1. [AI만으론 부족해…오픈AI, 스타트업 투자로 생태계 확장 - ZD넷 코리아](https://news.google.com/rss/articles/CBMiVkFVX3lxTE5GQjI1cGxiaU1OS0NoX0ExWUJ0Umx5cXpfMjBsRm9mQUpNS1BNd2dGR254XzFrQllqUS1mcWNTU0I0eWFRVDZGX2lIa2d3VndtT2Q1STJB?oc=5)\n",
      "   \n",
      "2. [KT ‘호텔’ 매각 만지작… AI 투자가 이유(?) - IT조선](https://news.google.com/rss/articles/CBMicEFVX3lxTE53UUNnMjJPOEd3czJQNFl1dVVQNUlleWVTS0VzUzdJX2pRQWU1blZXX0ZrdzFUUnFYdzhyYkY5a2xGWTBqYU5vRFNRb0ZuajF1amptaFpqV0xkVWk1aDdjSHBjMjBJcGJwbmhkQWJfNnLSAXRBVV95cUxPcElEbkpWcGZZRURha1hfcW02U0NVSzk0T1hMVVhQcDRWWTJnWk9Ddk43OV9GWmY4MkRURWU4TVByeUZqSDNrY3k5V0VBWWlvUjE1di1BU0JLOGtXSHhjUFBFa0FLTjJhUVloMjVSZzF4a3BCbg?oc=5)\n",
      "\n",
      "3. [더벤처스, 베트남 빈 그룹과 현지 AI기업 '플룸AI' 투자 - 머니투데이](https://news.google.com/rss/articles/CBMiZkFVX3lxTFBIT2NvaXRiZVJVc3N4dTRUSFB1LW4zTkN3c3UtSDQyTHRKMGkzWWFCdEpjRnAxYXZKWlh3bmNZM0xxeVdYbFBaMmRXampzM0U4QkctSFpZTENEdlVoZ0FvVjFPekJtUdIBbkFVX3lxTE5ybERZMnhLWlo5cmg4UEhpaDc3NnFMekVkY0Zyb0huRmpXSWZMNjl0Q00zNWJlVDFFNUNXaDVSZHhBb2NpSUN5ODhiSU1BZTRaTjBGaEVnbzVwalg2eXFma2gtMUROVlJRRHFyS2Rn?oc=5)\n",
      "\n",
      "4. [50개 유망주 중 5개 추렸다, 1번은 ‘AI 포식자’ 브로드컴 [5대 운용사 ‘서학톱픽’①] - 중앙일보](https://news.google.com/rss/articles/CBMiVkFVX3lxTE8wMjZhNm9jQXRTUTBYelVQb3lfbmZ3U3J0VnlETnlWNGtic3hFazViQ0ZlU3I0Unh0U2ZmTk9fQWN6N0EtVExPc1plTHJwU3ZyeHdUM0pn?oc=5)\n",
      "\n",
      "5. [미래에셋증권, 'AI투자정보 알림 서비스' 강화 - 네이트 뉴스](https://news.google.com/rss/articles/CBMiU0FVX3lxTE9yZnFfTW9XNlNPMW5XY0tHeU1KX3ZKMFFQbEJKR1BtdFR5cUoxOUVwWUlHd3NLNWNQZmpIdURfVkgyVkFVTS1EaDdJRVZrUUExMlhz?oc=5)\n",
      "\n",
      "각 링크를 클릭하시면 더 자세한 내용을 확인하실 수 있습니다.\n"
     ]
    }
   ],
   "source": [
    "from langchain.agents import AgentExecutor\n",
    "\n",
    "# AgentExecutor 생성\n",
    "agent_executor = AgentExecutor(\n",
    "    agent=agent,\n",
    "    tools=tools,\n",
    "    verbose=True,\n",
    "    max_iterations=10,\n",
    "    max_execution_time=10,\n",
    "    handle_parsing_errors=True,\n",
    ")\n",
    "\n",
    "# AgentExecutor 실행\n",
    "result = agent_executor.invoke({\"input\": \"AI 투자와 관련된 뉴스를 검색해 주세요.\"})\n",
    "\n",
    "print(\"Agent 실행 결과:\")\n",
    "print(result[\"output\"])"
   ]
  },
  {
   "cell_type": "code",
   "execution_count": null,
   "metadata": {},
   "outputs": [],
   "source": [
    "from langchain_community.chat_message_histories import ChatMessageHistory\n",
    "from langchain_core.runnables.history import RunnableWithMessageHistory\n",
    "\n",
    "# session_id 를 저장할 딕셔너리 생성\n",
    "store = {}\n",
    "\n",
    "\n",
    "# session_id 를 기반으로 세션 기록을 가져오는 함수\n",
    "def get_session_history(session_ids):\n",
    "    if session_ids not in store:  # session_id 가 store에 없는 경우\n",
    "        # 새로운 ChatMessageHistory 객체를 생성하여 store에 저장\n",
    "        store[session_ids] = ChatMessageHistory()\n",
    "    return store[session_ids]  # 해당 세션 ID에 대한 세션 기록 반환\n",
    "\n",
    "\n",
    "# 채팅 메시지 기록이 추가된 에이전트를 생성합니다.\n",
    "agent_with_chat_history = RunnableWithMessageHistory(\n",
    "    agent_executor,\n",
    "    # 대화 session_id\n",
    "    get_session_history,\n",
    "    # 프롬프트의 질문이 입력되는 key: \"input\"\n",
    "    input_messages_key=\"input\",\n",
    "    # 프롬프트의 메시지가 입력되는 key: \"chat_history\"\n",
    "    history_messages_key=\"chat_history\",\n",
    ")\n"
   ]
  },
  {
   "cell_type": "markdown",
   "metadata": {},
   "source": [
    "## Stream"
   ]
  },
  {
   "cell_type": "code",
   "execution_count": null,
   "metadata": {},
   "outputs": [],
   "source": [
    "from langchain.agents import AgentExecutor\n",
    "\n",
    "# AgentExecutor 생성\n",
    "agent_executor = AgentExecutor(\n",
    "    agent=agent,\n",
    "    tools=tools,\n",
    "    verbose=False,\n",
    "    handle_parsing_errors=True,\n",
    ")\n"
   ]
  },
  {
   "cell_type": "code",
   "execution_count": null,
   "metadata": {},
   "outputs": [],
   "source": [
    "# 스트리밍 모드 실행\n",
    "result = agent_executor.stream({\"input\": \"AI 투자와 관련된 뉴스를 검색해 주세요.\"}) \n",
    "\n",
    "for step in result:\n",
    "    # 중간 단계 출력\n",
    "    print(step)\n"
   ]
  },
  {
   "cell_type": "code",
   "execution_count": null,
   "metadata": {},
   "outputs": [],
   "source": [
    "from langchain_teddynote.messages import AgentStreamParser\n",
    "\n",
    "agent_stream_parser = AgentStreamParser()\n"
   ]
  },
  {
   "cell_type": "code",
   "execution_count": null,
   "metadata": {},
   "outputs": [],
   "source": [
    "# 질의에 대한 답변을 스트리밍으로 출력 요청\n",
    "result = agent_executor.stream(\n",
    "    {\"input\": \"matplotlib 을 사용하여 pie 차트를 그리는 코드를 작성하고 실행하세요.\"}\n",
    ")\n",
    "\n",
    "for step in result:\n",
    "    # 중간 단계를 parser 를 사용하여 단계별로 출력\n",
    "    agent_stream_parser.process_agent_steps(step)\n"
   ]
  },
  {
   "cell_type": "code",
   "execution_count": null,
   "metadata": {},
   "outputs": [],
   "source": [
    "# AgentCallbacks와 AgentStreamParser를 langchain_teddynote.messages에서 가져옵니다.\n",
    "from langchain_teddynote.messages import AgentCallbacks, AgentStreamParser\n",
    "\n",
    "\n",
    "# 도구 호출 시 실행되는 콜백 함수입니다.\n",
    "def tool_callback(tool) -> None:\n",
    "    print(\"<<<<<<< 도구 호출 >>>>>>\")\n",
    "    print(f\"Tool: {tool.get('tool')}\")  # 사용된 도구의 이름을 출력합니다.\n",
    "    print(\"<<<<<<< 도구 호출 >>>>>>\")\n",
    "\n",
    "\n",
    "# 관찰 결과를 출력하는 콜백 함수입니다.\n",
    "def observation_callback(observation) -> None:\n",
    "    print(\"<<<<<<< 관찰 내용 >>>>>>\")\n",
    "    print(\n",
    "        f\"Observation: {observation.get('observation')[0]}\"\n",
    "    )  # 관찰 내용을 출력합니다.\n",
    "    print(\"<<<<<<< 관찰 내용 >>>>>>\")\n",
    "\n",
    "\n",
    "# 최종 결과를 출력하는 콜백 함수입니다.\n",
    "def result_callback(result: str) -> None:\n",
    "    print(\"<<<<<<< 최종 답변 >>>>>>\")\n",
    "    print(result)  # 최종 답변을 출력합니다.\n",
    "    print(\"<<<<<<< 최종 답변 >>>>>>\")\n",
    "\n",
    "\n",
    "# AgentCallbacks 객체를 생성하여 각 단계별 콜백 함수를 설정합니다.\n",
    "agent_callbacks = AgentCallbacks(\n",
    "    tool_callback=tool_callback,\n",
    "    observation_callback=observation_callback,\n",
    "    result_callback=result_callback,\n",
    ")\n",
    "\n",
    "# AgentStreamParser 객체를 생성하여 에이전트의 실행 과정을 파싱합니다.\n",
    "agent_stream_parser = AgentStreamParser(agent_callbacks)\n"
   ]
  },
  {
   "cell_type": "code",
   "execution_count": null,
   "metadata": {},
   "outputs": [],
   "source": [
    "# 질의에 대한 답변을 스트리밍으로 출력 요청\n",
    "response = agent_with_chat_history.stream(\n",
    "    {\"input\": \"안녕? 내 이름은 테디야!\"},\n",
    "    # session_id 설정\n",
    "    config={\"configurable\": {\"session_id\": \"abc123\"}},\n",
    ")\n",
    "\n",
    "# 출력 확인\n",
    "for step in response:\n",
    "    agent_stream_parser.process_agent_steps(step)\n"
   ]
  },
  {
   "cell_type": "code",
   "execution_count": null,
   "metadata": {},
   "outputs": [],
   "source": [
    "# 질의에 대한 답변을 스트리밍으로 출력 요청\n",
    "response = agent_with_chat_history.stream(\n",
    "    {\"input\": \"내 이름이 뭐라고?\"},\n",
    "    # session_id 설정\n",
    "    config={\"configurable\": {\"session_id\": \"abc123\"}},\n",
    ")\n",
    "\n",
    "# 출력 확인\n",
    "for step in response:\n",
    "    agent_stream_parser.process_agent_steps(step)\n"
   ]
  },
  {
   "cell_type": "code",
   "execution_count": null,
   "metadata": {},
   "outputs": [],
   "source": []
  }
 ],
 "metadata": {
  "kernelspec": {
   "display_name": "rag",
   "language": "python",
   "name": "python3"
  },
  "language_info": {
   "codemirror_mode": {
    "name": "ipython",
    "version": 3
   },
   "file_extension": ".py",
   "mimetype": "text/x-python",
   "name": "python",
   "nbconvert_exporter": "python",
   "pygments_lexer": "ipython3",
   "version": "3.11.11"
  }
 },
 "nbformat": 4,
 "nbformat_minor": 2
}
