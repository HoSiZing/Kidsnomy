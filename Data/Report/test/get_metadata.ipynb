{
 "cells": [
  {
   "cell_type": "code",
   "execution_count": 6,
   "metadata": {},
   "outputs": [],
   "source": [
    "import json\n",
    "with open('total.json') as f:\n",
    "    data = json.load(f)"
   ]
  },
  {
   "cell_type": "code",
   "execution_count": 17,
   "metadata": {},
   "outputs": [],
   "source": [
    "import os\n",
    "import requests\n",
    "import json\n",
    "from dotenv import load_dotenv\n",
    "\n",
    "load_dotenv()\n",
    "\n",
    "\n",
    "REST_API_KEY = os.getenv('KAKAO_API')\n",
    "URL = \"https://dapi.kakao.com/v2/local/search/keyword.json\""
   ]
  },
  {
   "cell_type": "code",
   "execution_count": 25,
   "metadata": {},
   "outputs": [],
   "source": [
    "def search(query: str) -> dict:\n",
    "    headers = {\n",
    "    \"Authorization\": f\"KakaoAK {REST_API_KEY}\"\n",
    "    }\n",
    "\n",
    "    params = {\n",
    "        \"query\": query,\n",
    "        \"x\": \"127.09761630337\", # 송파구\n",
    "        \"y\": \"37.51232891786\",\n",
    "        \"radius\": 20000,\n",
    "        \"page\":1\n",
    "    }\n",
    "\n",
    "    response = requests.get(URL, headers=headers, params=params)\n",
    "    os.makedirs(\"./kakao_data\", exist_ok=True)\n",
    "    if response.status_code == 200:\n",
    "        data = response.json()\n",
    "        # print(json.dumps(response.json(), indent=4, ensure_ascii=False))\n",
    "        return data\n",
    "    else:\n",
    "        print(f\"Error {response.status_code}: {response.text}\")\n",
    "        return False"
   ]
  },
  {
   "cell_type": "code",
   "execution_count": 35,
   "metadata": {},
   "outputs": [],
   "source": [
    "from random import randint\n",
    "\n",
    "data_with_meta = {'total_data': []}\n",
    "\n",
    "for gender in data:\n",
    "    data_gender = data[gender]\n",
    "    for age in data_gender:\n",
    "        data_gender_age = data_gender[age]\n",
    "        for single_data in data_gender_age:\n",
    "            if '테마파크' in single_data['category_name']:\n",
    "                price = 50_000\n",
    "            else:\n",
    "                price = randint(1_000, 20_000) // 100 * 100\n",
    "            # print(single_data)\n",
    "            search_data = search(single_data['place_name'])['documents']\n",
    "            # print(search_data)\n",
    "            if not search_data:\n",
    "                continue\n",
    "            first_one = search_data[0]\n",
    "            new_one = dict()\n",
    "            new_one['category_name'] = first_one['category_name']\n",
    "            new_one['place_name'] = first_one['place_name']\n",
    "            new_one['road_address_name'] = first_one['road_address_name']\n",
    "            new_one['price'] = price\n",
    "            data_with_meta['total_data'].append(new_one)\n",
    "            # break"
   ]
  },
  {
   "cell_type": "code",
   "execution_count": 44,
   "metadata": {},
   "outputs": [],
   "source": [
    "# from pprint import pprint\n",
    "# pprint(data_with_meta)\n",
    "with open('data_with_meta.json', 'w', encoding='UTF-8') as outfile:\n",
    "    json.dump(data_with_meta, outfile, indent=4, ensure_ascii=False)"
   ]
  }
 ],
 "metadata": {
  "kernelspec": {
   "display_name": "fastapi",
   "language": "python",
   "name": "python3"
  },
  "language_info": {
   "codemirror_mode": {
    "name": "ipython",
    "version": 3
   },
   "file_extension": ".py",
   "mimetype": "text/x-python",
   "name": "python",
   "nbconvert_exporter": "python",
   "pygments_lexer": "ipython3",
   "version": "3.10.16"
  }
 },
 "nbformat": 4,
 "nbformat_minor": 2
}
