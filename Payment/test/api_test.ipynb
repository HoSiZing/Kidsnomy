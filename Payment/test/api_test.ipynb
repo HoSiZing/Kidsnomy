{
 "cells": [
  {
   "cell_type": "code",
   "execution_count": 59,
   "metadata": {},
   "outputs": [],
   "source": [
    "import os\n",
    "import requests\n",
    "\n",
    "FIN_BASE_URL = \"https://finopenapi.ssafy.io/ssafy/api/v1/\""
   ]
  },
  {
   "cell_type": "code",
   "execution_count": null,
   "metadata": {},
   "outputs": [
    {
     "name": "stdout",
     "output_type": "stream",
     "text": [
      "API Key:  08f130749a26448abc26fcf1dc0bc1a1\n"
     ]
    }
   ],
   "source": [
    "# # 요청 메세지로 managerID를 전달하여 API Key를 발급받는다.(POST, /issuedApiKey)\n",
    "# response = requests.post(FIN_BASE_URL + \"edu/app/reIssuedApiKey\",\n",
    "#                          json={\"managerId\": \"qja1998@naver.com\"})\n",
    "\n",
    "# response_json = response.json()\n",
    "# API_KEY = response_json[\"apiKey\"]\n",
    "# print(\"API Key: \", API_KEY)"
   ]
  },
  {
   "cell_type": "code",
   "execution_count": 4,
   "metadata": {},
   "outputs": [],
   "source": [
    "USER_URL = FIN_BASE_URL + \"member/\"\n",
    "\n",
    "# response = requests.post(USER_URL,\n",
    "#                          json={\"userId\": \"qja1998@naver.com\",\n",
    "#                                \"apiKey\": API_KEY})\n",
    "\n",
    "\n",
    "# print(f\"응답 코드: {response.status_code}\")\n",
    "# print(f\"응답 내용: {response.json()}\")"
   ]
  },
  {
   "cell_type": "code",
   "execution_count": 5,
   "metadata": {},
   "outputs": [
    {
     "name": "stdout",
     "output_type": "stream",
     "text": [
      "응답 코드: 201\n",
      "응답 내용: {'userId': 'qja1998@naver.com', 'userName': 'qja1998', 'institutionCode': '00100', 'userKey': '2c2b20d9-572c-45d4-911a-0f6842c02fec', 'created': '2025-03-21T17:24:45.35412+09:00', 'modified': '2025-03-21T17:24:45.354119+09:00'}\n"
     ]
    }
   ],
   "source": [
    "response = requests.post(USER_URL + 'search',\n",
    "                         json={\"userId\": \"qja1998@naver.com\",\n",
    "                               \"apiKey\": API_KEY})\n",
    "\n",
    "\n",
    "print(f\"응답 코드: {response.status_code}\")\n",
    "print(f\"응답 내용: {response.json()}\")\n",
    "user_key = response.json()['userKey']"
   ]
  },
  {
   "cell_type": "code",
   "execution_count": 7,
   "metadata": {},
   "outputs": [
    {
     "name": "stdout",
     "output_type": "stream",
     "text": [
      "{\n",
      "    \"Header\": {\n",
      "        \"apiName\": \"createDemandDeposit\",\n",
      "        \"transmissionDate\": \"20250326\",\n",
      "        \"transmissionTime\": \"104021\",\n",
      "        \"institutionCode\": \"00100\",\n",
      "        \"fintechAppNo\": \"001\",\n",
      "        \"apiServiceCode\": \"createDemandDeposit\",\n",
      "        \"institutionTransactionUniqueNo\": \"20250326104021999999\",\n",
      "        \"apiKey\": \"84956dade97e487898e0f485b569262a\",\n",
      "        \"userKey\": null\n",
      "    }\n",
      "}\n"
     ]
    }
   ],
   "source": [
    "import json\n",
    "from datetime import datetime\n",
    "\n",
    "def generate_header(api_key, api_name, user_key=None):\n",
    "    \"\"\"현재 시간을 적용하여 헤더를 생성합니다.\"\"\"\n",
    "    now = datetime.now()\n",
    "    transmission_date = now.strftime(\"%Y%m%d\")\n",
    "    transmission_time = now.strftime(\"%H%M%S\")\n",
    "\n",
    "    header = {\n",
    "        \"Header\": {\n",
    "            \"apiName\": api_name,\n",
    "            \"transmissionDate\": transmission_date,\n",
    "            \"transmissionTime\": transmission_time,\n",
    "            \"institutionCode\": \"00100\",\n",
    "            \"fintechAppNo\": \"001\",\n",
    "            \"apiServiceCode\": api_name,\n",
    "            \"institutionTransactionUniqueNo\": f\"{transmission_date}{transmission_time}999999\",\n",
    "            \"apiKey\": api_key,\n",
    "            \"userKey\": user_key\n",
    "        }\n",
    "    }\n",
    "    return header\n",
    "\n",
    "# 헤더 생성 및 출력 예시\n",
    "header = generate_header(API_KEY, 'createDemandDeposit')\n",
    "print(json.dumps(header, indent=4))"
   ]
  },
  {
   "cell_type": "code",
   "execution_count": 17,
   "metadata": {},
   "outputs": [],
   "source": [
    "import json\n",
    "\n",
    "ACCOUNT_URL = FIN_BASE_URL + \"edu/demandDeposit/\""
   ]
  },
  {
   "cell_type": "code",
   "execution_count": null,
   "metadata": {},
   "outputs": [
    {
     "name": "stdout",
     "output_type": "stream",
     "text": [
      "응답 코드: 201\n",
      "응답 내용: {'Header': {'responseCode': 'H0000', 'responseMessage': '정상처리 되었습니다.', 'apiName': 'createDemandDeposit', 'transmissionDate': '20250326', 'transmissionTime': '110439', 'institutionCode': '00100', 'apiKey': '84956dade97e487898e0f485b569262a', 'apiServiceCode': 'createDemandDeposit', 'institutionTransactionUniqueNo': '20250326110439999999'}, 'REC': {'accountTypeUniqueNo': '001-1-363df8fd25a04b', 'bankCode': '001', 'bankName': '한국은행', 'accountTypeCode': '1', 'accountTypeName': '수시입출금', 'accountName': '테스트상품품', 'accountDescription': '테스트상품품입니다', 'accountType': 'DOMESTIC'}}\n"
     ]
    }
   ],
   "source": [
    "CREATE_ACCOUNT_URL = ACCOUNT_URL +\"createDemandDeposit\"\n",
    "\n",
    "payload = {\n",
    "    \"Header\": generate_header(API_KEY, 'createDemandDeposit', user_key=user_key)['Header'],\n",
    "    \"bankCode\": \"001\",\n",
    "    \"accountName\": \"테스트상품\",\n",
    "    \"accountDescription\": \"테스트상품입니다\",\n",
    "}\n",
    "\n",
    "create_response = requests.post(\n",
    "        CREATE_ACCOUNT_URL,\n",
    "        headers={\"Content-Type\": \"application/json\"},\n",
    "        data=json.dumps(payload)\n",
    "    )\n",
    "\n",
    "print(f\"응답 코드: {create_response.status_code}\")\n",
    "print(f\"응답 내용: {create_response.json()}\")\n",
    "account_type_unique_no = create_response.json()['REC']['accountTypeUniqueNo']"
   ]
  },
  {
   "cell_type": "code",
   "execution_count": null,
   "metadata": {},
   "outputs": [
    {
     "name": "stdout",
     "output_type": "stream",
     "text": [
      "응답 코드: 201\n",
      "응답 내용: {'Header': {'responseCode': 'H0000', 'responseMessage': '정상처리 되었습니다.', 'apiName': 'createDemandDepositAccount', 'transmissionDate': '20250326', 'transmissionTime': '110540', 'institutionCode': '00100', 'apiKey': '84956dade97e487898e0f485b569262a', 'apiServiceCode': 'createDemandDepositAccount', 'institutionTransactionUniqueNo': '20250326110540999999'}, 'REC': {'bankCode': '001', 'accountNo': '0015564704400240', 'currency': {'currency': 'KRW', 'currencyName': '원화'}}}\n"
     ]
    }
   ],
   "source": [
    "# 통장 등록\n",
    "\n",
    "CREATE_ACCOUNT_URL = ACCOUNT_URL +\"createDemandDepositAccount\"\n",
    "\n",
    "payload = {\n",
    "    \"Header\": generate_header(API_KEY, 'createDemandDepositAccount', user_key=user_key)['Header'],\n",
    "    \"accountTypeUniqueNo\": account_type_unique_no\n",
    "}\n",
    "\n",
    "create_response = requests.post(\n",
    "        CREATE_ACCOUNT_URL,\n",
    "        headers={\"Content-Type\": \"application/json\"},\n",
    "        data=json.dumps(payload)\n",
    "    )\n",
    "\n",
    "print(f\"응답 코드: {create_response.status_code}\")\n",
    "print(f\"응답 내용: {create_response.json()}\")\n",
    "account_no = create_response.json()['REC']['accountNo']"
   ]
  },
  {
   "cell_type": "code",
   "execution_count": null,
   "metadata": {},
   "outputs": [
    {
     "data": {
      "text/plain": [
       "'0015564704400240'"
      ]
     },
     "execution_count": 30,
     "metadata": {},
     "output_type": "execute_result"
    }
   ],
   "source": [
    "# 0015564704400240\n",
    "account_no"
   ]
  },
  {
   "cell_type": "code",
   "execution_count": 43,
   "metadata": {},
   "outputs": [
    {
     "name": "stdout",
     "output_type": "stream",
     "text": [
      "응답 코드: 200\n",
      "응답 내용: {'Header': {'responseCode': 'H0000', 'responseMessage': '정상처리 되었습니다.', 'apiName': 'inquireDemandDepositAccountList', 'transmissionDate': '20250326', 'transmissionTime': '130040', 'institutionCode': '00100', 'apiKey': '84956dade97e487898e0f485b569262a', 'apiServiceCode': 'inquireDemandDepositAccountList', 'institutionTransactionUniqueNo': '20250326130040999999'}, 'REC': [{'bankCode': '001', 'bankName': '한국은행', 'userName': 'qja1998', 'accountNo': '0015564704400240', 'accountName': '테스트상품품', 'accountTypeCode': '1', 'accountTypeName': '수시입출금', 'accountCreatedDate': '20250326', 'accountExpiryDate': '20300326', 'dailyTransferLimit': '500000000', 'oneTimeTransferLimit': '100000000', 'accountBalance': '0', 'lastTransactionDate': '', 'currency': 'KRW'}]}\n"
     ]
    }
   ],
   "source": [
    "# 계좌 조회\n",
    "payload = {\n",
    "    \"Header\": generate_header(API_KEY, 'inquireDemandDepositAccountList', user_key=user_key)['Header'],\n",
    "}\n",
    "\n",
    "account_list_response = requests.post(\n",
    "        ACCOUNT_URL + \"inquireDemandDepositAccountList\",\n",
    "        headers={\"Content-Type\": \"application/json\"},\n",
    "        data=json.dumps(payload)\n",
    "    )\n",
    "\n",
    "print(f\"응답 코드: {account_list_response.status_code}\")\n",
    "print(f\"응답 내용: {account_list_response.json()}\")"
   ]
  },
  {
   "cell_type": "code",
   "execution_count": 44,
   "metadata": {},
   "outputs": [
    {
     "name": "stdout",
     "output_type": "stream",
     "text": [
      "응답 코드: 200\n",
      "응답 내용: {'Header': {'responseCode': 'H0000', 'responseMessage': '정상처리 되었습니다.', 'apiName': 'inquireDemandDepositAccountBalance', 'transmissionDate': '20250326', 'transmissionTime': '130244', 'institutionCode': '00100', 'apiKey': '84956dade97e487898e0f485b569262a', 'apiServiceCode': 'inquireDemandDepositAccountBalance', 'institutionTransactionUniqueNo': '20250326130244999999'}, 'REC': {'bankCode': '001', 'accountNo': '0015564704400240', 'accountBalance': '0', 'accountCreatedDate': '20250326', 'accountExpiryDate': '20300326', 'lastTransactionDate': '', 'currency': 'KRW'}}\n"
     ]
    }
   ],
   "source": [
    "# 계좌 잔액 조회\n",
    "payload = {\n",
    "    \"Header\": generate_header(API_KEY, 'inquireDemandDepositAccountBalance', user_key=user_key)['Header'],\n",
    "    \"accountNo\": account_no\n",
    "}\n",
    "\n",
    "account_balance_response = requests.post(\n",
    "        ACCOUNT_URL + \"inquireDemandDepositAccountBalance\",\n",
    "        headers={\"Content-Type\": \"application/json\"},\n",
    "        data=json.dumps(payload)\n",
    "    )\n",
    "\n",
    "print(f\"응답 코드: {account_balance_response.status_code}\")\n",
    "print(f\"응답 내용: {account_balance_response.json()}\")"
   ]
  },
  {
   "cell_type": "code",
   "execution_count": 46,
   "metadata": {},
   "outputs": [
    {
     "name": "stdout",
     "output_type": "stream",
     "text": [
      "응답 코드: 200\n",
      "응답 내용: {'Header': {'responseCode': 'H0000', 'responseMessage': '정상처리 되었습니다.', 'apiName': 'updateDemandDepositAccountDeposit', 'transmissionDate': '20250326', 'transmissionTime': '130455', 'institutionCode': '00100', 'apiKey': '84956dade97e487898e0f485b569262a', 'apiServiceCode': 'updateDemandDepositAccountDeposit', 'institutionTransactionUniqueNo': '20250326130455999999'}, 'REC': {'transactionUniqueNo': '85045', 'transactionDate': '20250326'}}\n",
      "응답 코드: 200\n",
      "응답 내용: {'Header': {'responseCode': 'H0000', 'responseMessage': '정상처리 되었습니다.', 'apiName': 'inquireDemandDepositAccountBalance', 'transmissionDate': '20250326', 'transmissionTime': '130455', 'institutionCode': '00100', 'apiKey': '84956dade97e487898e0f485b569262a', 'apiServiceCode': 'inquireDemandDepositAccountBalance', 'institutionTransactionUniqueNo': '20250326130455999999'}, 'REC': {'bankCode': '001', 'accountNo': '0015564704400240', 'accountBalance': '1000000', 'accountCreatedDate': '20250326', 'accountExpiryDate': '20300326', 'lastTransactionDate': '20250326', 'currency': 'KRW'}}\n"
     ]
    }
   ],
   "source": [
    "# 계좌 입금\n",
    "\n",
    "payload = {\n",
    "    \"Header\": generate_header(API_KEY, 'updateDemandDepositAccountDeposit', user_key=user_key)['Header'],\n",
    "    \"accountNo\": account_no,\n",
    "    \"transactionBalance\": 1_000_000,\n",
    "    \"transactionSummary\": \"입금\"\n",
    "}\n",
    "\n",
    "account_update_response = requests.post(\n",
    "        ACCOUNT_URL + \"updateDemandDepositAccountDeposit\",\n",
    "        headers={\"Content-Type\": \"application/json\"},\n",
    "        data=json.dumps(payload)\n",
    "    )\n",
    "\n",
    "print(f\"응답 코드: {account_update_response.status_code}\")\n",
    "print(f\"응답 내용: {account_update_response.json()}\")\n",
    "\n",
    "# 계좌 잔액 조회\n",
    "payload = {\n",
    "    \"Header\": generate_header(API_KEY, 'inquireDemandDepositAccountBalance', user_key=user_key)['Header'],\n",
    "    \"accountNo\": account_no\n",
    "}\n",
    "\n",
    "account_balance_response = requests.post(\n",
    "        ACCOUNT_URL + \"inquireDemandDepositAccountBalance\",\n",
    "        headers={\"Content-Type\": \"application/json\"},\n",
    "        data=json.dumps(payload)\n",
    "    )\n",
    "\n",
    "print(f\"응답 코드: {account_balance_response.status_code}\")\n",
    "print(f\"응답 내용: {account_balance_response.json()}\")"
   ]
  },
  {
   "cell_type": "code",
   "execution_count": null,
   "metadata": {},
   "outputs": [
    {
     "name": "stdout",
     "output_type": "stream",
     "text": [
      "응답 코드: 200\n",
      "응답 내용: {'Header': {'responseCode': 'H0000', 'responseMessage': '정상처리 되었습니다.', 'apiName': 'updateDemandDepositAccountWithdrawal', 'transmissionDate': '20250326', 'transmissionTime': '130608', 'institutionCode': '00100', 'apiKey': '84956dade97e487898e0f485b569262a', 'apiServiceCode': 'updateDemandDepositAccountWithdrawal', 'institutionTransactionUniqueNo': '20250326130608999999'}, 'REC': {'transactionUniqueNo': '85046', 'transactionDate': '20250326'}}\n"
     ]
    }
   ],
   "source": [
    "# 결제 요청\n",
    "PAYMENT_URL = ACCOUNT_URL + \"updateDemandDepositAccountWithdrawal\"\n",
    "\n",
    "payload = {\n",
    "    \"Header\": generate_header(API_KEY, 'updateDemandDepositAccountWithdrawal', user_key=user_key)['Header'],\n",
    "    \"transactionBalance\": 1000,\n",
    "    \"transactionSummary\": \"테스트 결제: 상호명, 대전광역시 유성구 덕명동 515-3\",\n",
    "    \"accountNo\": account_no\n",
    "}\n",
    "\n",
    "payment_response = requests.post(\n",
    "    PAYMENT_URL,\n",
    "    headers={\"Content-Type\": \"application/json\"},\n",
    "    data=json.dumps(payload)\n",
    "    )\n",
    "\n",
    "print(f\"응답 코드: {payment_response.status_code}\")\n",
    "print(f\"응답 내용: {payment_response.json()}\")"
   ]
  },
  {
   "cell_type": "code",
   "execution_count": 58,
   "metadata": {},
   "outputs": [
    {
     "name": "stdout",
     "output_type": "stream",
     "text": [
      "응답 코드: 200\n",
      "응답 내용: {'Header': {'responseCode': 'H0000', 'responseMessage': '정상처리 되었습니다.', 'apiName': 'inquireTransactionHistoryList', 'transmissionDate': '20250326', 'transmissionTime': '131411', 'institutionCode': '00100', 'apiKey': '84956dade97e487898e0f485b569262a', 'apiServiceCode': 'inquireTransactionHistoryList', 'institutionTransactionUniqueNo': '20250326131411999999'}, 'REC': {'totalCount': '2', 'list': [{'transactionUniqueNo': '85046', 'transactionDate': '20250326', 'transactionTime': '130609', 'transactionType': '2', 'transactionTypeName': '출금', 'transactionAccountNo': '', 'transactionBalance': '1000', 'transactionAfterBalance': '999000', 'transactionSummary': '테스트 결제: 상호명, 대전광역시 유성구 덕명동 515-3', 'transactionMemo': ''}, {'transactionUniqueNo': '85045', 'transactionDate': '20250326', 'transactionTime': '130456', 'transactionType': '1', 'transactionTypeName': '입금', 'transactionAccountNo': '', 'transactionBalance': '1000000', 'transactionAfterBalance': '1000000', 'transactionSummary': '입금', 'transactionMemo': ''}]}}\n"
     ]
    }
   ],
   "source": [
    "# 거래 내역 조회\n",
    "\n",
    "payload = {\n",
    "    \"Header\": generate_header(API_KEY, 'inquireTransactionHistoryList', user_key=user_key)['Header'],\n",
    "    \"accountNo\": account_no,\n",
    "    \"startDate\": \"20250301\",\n",
    "    \"endDate\": \"20250331\",\n",
    "    \"transactionType\": \"A\",\n",
    "    \"orderByType\": \"DESC\"\n",
    "}\n",
    "\n",
    "account_history_response = requests.post(\n",
    "    ACCOUNT_URL + \"inquireTransactionHistoryList\",\n",
    "    headers={\"Content-Type\": \"application/json\"},\n",
    "    data=json.dumps(payload)\n",
    "    )\n",
    "\n",
    "print(f\"응답 코드: {account_history_response.status_code}\")\n",
    "print(f\"응답 내용: {account_history_response.json()}\")"
   ]
  },
  {
   "cell_type": "code",
   "execution_count": null,
   "metadata": {},
   "outputs": [],
   "source": []
  },
  {
   "cell_type": "code",
   "execution_count": null,
   "metadata": {},
   "outputs": [],
   "source": []
  }
 ],
 "metadata": {
  "kernelspec": {
   "display_name": "rag",
   "language": "python",
   "name": "python3"
  },
  "language_info": {
   "codemirror_mode": {
    "name": "ipython",
    "version": 3
   },
   "file_extension": ".py",
   "mimetype": "text/x-python",
   "name": "python",
   "nbconvert_exporter": "python",
   "pygments_lexer": "ipython3",
   "version": "3.11.11"
  }
 },
 "nbformat": 4,
 "nbformat_minor": 2
}
